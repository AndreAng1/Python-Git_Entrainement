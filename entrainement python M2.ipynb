{
 "cells": [
  {
   "cell_type": "code",
   "execution_count": 7,
   "metadata": {},
   "outputs": [
    {
     "name": "stdout",
     "output_type": "stream",
     "text": [
      "8\n"
     ]
    }
   ],
   "source": [
    "#commentaire\n",
    "x=2\n",
    "y=3\n",
    "print(x**y) # ** pour dire puissance"
   ]
  },
  {
   "cell_type": "code",
   "execution_count": 11,
   "metadata": {},
   "outputs": [
    {
     "name": "stdout",
     "output_type": "stream",
     "text": [
      "Au revoir Dakar\n"
     ]
    }
   ],
   "source": [
    "Vacances=\"Dakar\"\n",
    "if Vacances==\"Dakar\":\n",
    "    print(\"Au revoir Dakar\")\n",
    "else:\n",
    "    print(\"Bisou\")      \n"
   ]
  },
  {
   "cell_type": "code",
   "execution_count": 69,
   "metadata": {},
   "outputs": [
    {
     "name": "stdout",
     "output_type": "stream",
     "text": [
      "No\n"
     ]
    }
   ],
   "source": [
    "Moyenne=9\n",
    "if Moyenne>=10:\n",
    "    print (\"Yes\")\n",
    "else:\n",
    "    print(\"No\")"
   ]
  },
  {
   "cell_type": "code",
   "execution_count": 1,
   "metadata": {},
   "outputs": [],
   "source": [
    "def Moyenne(x):                            \n",
    "    if x>=10 and x<=12:\n",
    "        print (x,\", Passable\")\n",
    "    elif x>12 and x<=15:\n",
    "        print (x,\", Bien\")\n",
    "    elif x>15:\n",
    "        print (x,\", excellent\")\n",
    "    elif x>=8 and x<10:\n",
    "          print(x,\", Peut mieux faire\")\n",
    "    else:\n",
    "        print(x,\", médiocre\")\n",
    "    #return(x)"
   ]
  },
  {
   "cell_type": "code",
   "execution_count": 9,
   "metadata": {},
   "outputs": [
    {
     "name": "stdout",
     "output_type": "stream",
     "text": [
      "6.5 , médiocre\n"
     ]
    }
   ],
   "source": [
    "Moyenne(6.5)"
   ]
  },
  {
   "cell_type": "code",
   "execution_count": 10,
   "metadata": {},
   "outputs": [],
   "source": [
    "def red(y,z):\n",
    "    if y>z:\n",
    "        print(\"yes\")\n",
    "    elif y==z:\n",
    "        print(\"nul\")\n",
    "    else:\n",
    "        print(\"no\")"
   ]
  },
  {
   "cell_type": "code",
   "execution_count": 11,
   "metadata": {},
   "outputs": [
    {
     "name": "stdout",
     "output_type": "stream",
     "text": [
      "nul\n"
     ]
    }
   ],
   "source": [
    "red(5,5)"
   ]
  },
  {
   "cell_type": "code",
   "execution_count": 172,
   "metadata": {},
   "outputs": [],
   "source": [
    "#structures de contôle (IF ELSE ELIF)\n",
    "\n",
    "def signe(x):\n",
    "    if (x>0):\n",
    "        print(x,\"positif\")\n",
    "    elif x==0:\n",
    "        print(x,\"nul\")\n",
    "    else:\n",
    "        print(x,\"negatif\")\n"
   ]
  },
  {
   "cell_type": "code",
   "execution_count": 174,
   "metadata": {},
   "outputs": [
    {
     "name": "stdout",
     "output_type": "stream",
     "text": [
      "4 positif\n"
     ]
    }
   ],
   "source": [
    " signe(4) "
   ]
  },
  {
   "cell_type": "code",
   "execution_count": 176,
   "metadata": {},
   "outputs": [
    {
     "name": "stdout",
     "output_type": "stream",
     "text": [
      "Bonjour\n",
      "Bonjour\n",
      "Bonjour\n"
     ]
    }
   ],
   "source": [
    "#boucle for: permet de faire des algorithmes ittératifs (qui répètent une action plusieurs fois\n",
    "\n",
    "for i in range (0,3):\n",
    "    print(\"Bonjour\") #ne pas oublier les : a la fin de chaque condition"
   ]
  },
  {
   "cell_type": "code",
   "execution_count": 5,
   "metadata": {},
   "outputs": [
    {
     "name": "stdout",
     "output_type": "stream",
     "text": [
      "0\n",
      "1\n",
      "2\n",
      "3\n",
      "4\n"
     ]
    }
   ],
   "source": [
    "for i in range (0,5):\n",
    "    print(i)"
   ]
  },
  {
   "cell_type": "code",
   "execution_count": 12,
   "metadata": {},
   "outputs": [
    {
     "name": "stdout",
     "output_type": "stream",
     "text": [
      "0\n",
      "1\n",
      "2\n",
      "3\n",
      "4\n",
      "5\n",
      "6\n",
      "7\n",
      "8\n",
      "9\n"
     ]
    }
   ],
   "source": [
    "#boucle while permet de faire des algorithmes ittératif comme for, mais ces boucles ne sont exécutées que lorsqu'une \n",
    "#condition est respectée. while= Tant que\n",
    "i=0\n",
    "while i <10:\n",
    "    print (i)\n",
    "    #i=i+1 #on incrémente i de 1. Si on ne met pas cette ligne, on aura que des 0.....\n",
    "    i+=1"
   ]
  },
  {
   "cell_type": "code",
   "execution_count": 13,
   "metadata": {},
   "outputs": [
    {
     "name": "stdout",
     "output_type": "stream",
     "text": [
      "2\n",
      "5\n",
      "8\n",
      "11\n",
      "14\n",
      "17\n"
     ]
    }
   ],
   "source": [
    "i =2\n",
    "while i<20:\n",
    "    print(i)\n",
    "    i+=3"
   ]
  },
  {
   "cell_type": "code",
   "execution_count": 14,
   "metadata": {},
   "outputs": [],
   "source": [
    "import numpy as np   #numpy pour avoir des fonctions. np pour éviter d'écire numpy\n",
    "                     #des statistiques rapides"
   ]
  },
  {
   "cell_type": "code",
   "execution_count": 15,
   "metadata": {},
   "outputs": [
    {
     "data": {
      "text/plain": [
       "6.0"
      ]
     },
     "execution_count": 15,
     "metadata": {},
     "output_type": "execute_result"
    }
   ],
   "source": [
    "A=np.ones((2, 3))\n",
    "A.sum()"
   ]
  },
  {
   "cell_type": "code",
   "execution_count": 16,
   "metadata": {},
   "outputs": [
    {
     "name": "stdout",
     "output_type": "stream",
     "text": [
      "11\n"
     ]
    }
   ],
   "source": [
    "B=5 \n",
    "C=6 \n",
    "D= np.sum((B,C))\n",
    "print(D)"
   ]
  },
  {
   "cell_type": "code",
   "execution_count": 17,
   "metadata": {},
   "outputs": [
    {
     "name": "stdout",
     "output_type": "stream",
     "text": [
      "0.5\n"
     ]
    }
   ],
   "source": [
    "E=np.cov((B,C))\n",
    "print(E)"
   ]
  },
  {
   "cell_type": "code",
   "execution_count": 19,
   "metadata": {},
   "outputs": [
    {
     "name": "stdout",
     "output_type": "stream",
     "text": [
      "7 Maximum\n",
      "1 Minimum\n"
     ]
    }
   ],
   "source": [
    "g=[1,2,3,4,5,6,7]\n",
    "F=np.max((g))\n",
    "print(F,\"Maximum\")\n",
    "Q=np.min((g))\n",
    "print(Q,\"Minimum\")"
   ]
  },
  {
   "cell_type": "code",
   "execution_count": 20,
   "metadata": {},
   "outputs": [
    {
     "name": "stdout",
     "output_type": "stream",
     "text": [
      "4.0\n",
      "4.0\n",
      "5.5\n"
     ]
    }
   ],
   "source": [
    "T=np.median((g))\n",
    "print(T)\n",
    "\n",
    "U=np.mean((g))\n",
    "print(U)\n",
    "S=np.mean((B,C))\n",
    "print(S)"
   ]
  },
  {
   "cell_type": "code",
   "execution_count": 21,
   "metadata": {},
   "outputs": [],
   "source": [
    "# Créer une fonction\n",
    "def function_test (x,y,z):\n",
    "    resultat=x+y*z\n",
    "    return resultat "
   ]
  },
  {
   "cell_type": "code",
   "execution_count": 22,
   "metadata": {},
   "outputs": [
    {
     "data": {
      "text/plain": [
       "14"
      ]
     },
     "execution_count": 22,
     "metadata": {},
     "output_type": "execute_result"
    }
   ],
   "source": [
    "function_test(2,3,4)"
   ]
  },
  {
   "cell_type": "code",
   "execution_count": 13,
   "metadata": {},
   "outputs": [
    {
     "name": "stdout",
     "output_type": "stream",
     "text": [
      "1\n",
      "2\n",
      "3\n"
     ]
    }
   ],
   "source": [
    "#Python, variables et fonctions\n",
    "x=1\n",
    "print(x)\n",
    "x=2\n",
    "print(x)\n",
    "x=x+1      #ou écrire  x+=1\n",
    "print(x)\n",
    "\n"
   ]
  },
  {
   "cell_type": "code",
   "execution_count": 14,
   "metadata": {},
   "outputs": [
    {
     "name": "stdout",
     "output_type": "stream",
     "text": [
      "True\n",
      "False\n",
      "False\n",
      "True\n"
     ]
    }
   ],
   "source": [
    "#Les comparaisons\n",
    "x=3\n",
    "y=4\n",
    "print(x<=y)\n",
    "print(x>=y)\n",
    "print(x==y)\n",
    "print(x!=y)"
   ]
  },
  {
   "cell_type": "code",
   "execution_count": 15,
   "metadata": {},
   "outputs": [
    {
     "name": "stdout",
     "output_type": "stream",
     "text": [
      "7\n",
      "-1\n",
      "0.75\n",
      "12\n",
      "81\n"
     ]
    }
   ],
   "source": [
    "#Opérations arithmétiques\n",
    "print(x+y)\n",
    "print(x-y)\n",
    "print(x/y)\n",
    "print(x*y)\n",
    "print(x**y)"
   ]
  },
  {
   "cell_type": "code",
   "execution_count": 16,
   "metadata": {},
   "outputs": [
    {
     "name": "stdout",
     "output_type": "stream",
     "text": [
      "False\n",
      "True\n",
      "True\n"
     ]
    }
   ],
   "source": [
    "#Logique\n",
    "print(False & True) #AND\n",
    "print(False | True) #OR\n",
    "print(False ^ True) #XOR"
   ]
  },
  {
   "cell_type": "code",
   "execution_count": 17,
   "metadata": {},
   "outputs": [
    {
     "name": "stdout",
     "output_type": "stream",
     "text": [
      "André\n"
     ]
    }
   ],
   "source": [
    "#String: Les chaînes de caractères\n",
    "prenom= 'André'\n",
    "print(prenom)"
   ]
  },
  {
   "cell_type": "code",
   "execution_count": 18,
   "metadata": {},
   "outputs": [
    {
     "data": {
      "text/plain": [
       "5"
      ]
     },
     "execution_count": 18,
     "metadata": {},
     "output_type": "execute_result"
    }
   ],
   "source": [
    "z,t= 1, 5    #affecter 2 variables sur la même ligne\n",
    "z*t"
   ]
  },
  {
   "cell_type": "code",
   "execution_count": 19,
   "metadata": {},
   "outputs": [
    {
     "name": "stdout",
     "output_type": "stream",
     "text": [
      "9\n",
      "16\n",
      "14\n"
     ]
    }
   ],
   "source": [
    "#LEs Fonctions\n",
    "f= lambda x: x**2    #Pour dire f(x) =x2 on utilise le terme lambda pour les fonctions f(x)\n",
    "print(f(3))\n",
    "print(f(4))\n",
    "\n",
    "f= lambda x,y: x**2 +y    #f=x2 +y\n",
    "print(f(3,5))"
   ]
  },
  {
   "cell_type": "code",
   "execution_count": 60,
   "metadata": {},
   "outputs": [
    {
     "name": "stdout",
     "output_type": "stream",
     "text": [
      "3924.0 Joules\n"
     ]
    }
   ],
   "source": [
    "\n",
    "def e_potentielle(masse,hauteur,g=9.81):   #g=981, mettre ça dans la definition de la fonction c'est pour dire que g est une constante, ça ne bouge pas, c'est comme pi=3,14\n",
    "    E=masse*hauteur*g\n",
    "    print(E,'Joules')\n",
    "    return E #permet a la fonction de produire un résultat\n",
    "    \n",
    "    \n",
    "resultat= e_potentielle(masse=80,hauteur=5) #ici par exemple on peut enlever g\n"
   ]
  },
  {
   "cell_type": "code",
   "execution_count": 65,
   "metadata": {},
   "outputs": [],
   "source": [
    "#structures de contôle (IF ELSE ELIF)\n",
    "\n",
    "def signe(x):\n",
    "    if (x>0):\n",
    "        print(x,\"positif\")\n",
    "    elif x==0:\n",
    "        print(x,\"nul\")\n",
    "    else:\n",
    "        print(x,\"negatif\")\n"
   ]
  },
  {
   "cell_type": "code",
   "execution_count": 66,
   "metadata": {},
   "outputs": [
    {
     "name": "stdout",
     "output_type": "stream",
     "text": [
      "0 nul\n"
     ]
    }
   ],
   "source": [
    "signe(0)"
   ]
  },
  {
   "cell_type": "code",
   "execution_count": 22,
   "metadata": {},
   "outputs": [
    {
     "name": "stdout",
     "output_type": "stream",
     "text": [
      "0\n",
      "1\n",
      "2\n",
      "3\n",
      "4\n",
      "5\n",
      "6\n",
      "7\n",
      "8\n",
      "9\n"
     ]
    }
   ],
   "source": [
    "#Boucle For\n",
    "for i in range(10):   # range est une fonction de base dans python qui permet de générer une séquence de nombre\n",
    "    print(i)            #en réalité range prend 3 arguments\n",
    "                        #un argument, pour le début,par défaut c'est 0. \n",
    "                        #on a l'argument de pas, de combien on saute\n",
    "            "
   ]
  },
  {
   "cell_type": "code",
   "execution_count": 23,
   "metadata": {},
   "outputs": [
    {
     "name": "stdout",
     "output_type": "stream",
     "text": [
      "5\n",
      "7\n",
      "9\n"
     ]
    }
   ],
   "source": [
    "for j in range(5,10,2): #on saute de 2 pas.  on commence par 5 et termine par 9 car on va de 0 a 9 mais \n",
    "    print(j)    #mais on a demandé au truc de commencer par 5"
   ]
  },
  {
   "cell_type": "code",
   "execution_count": 26,
   "metadata": {},
   "outputs": [
    {
     "name": "stdout",
     "output_type": "stream",
     "text": [
      "10 positif\n",
      "7 positif\n",
      "4 positif\n",
      "1 positif\n",
      "-2 negatif\n",
      "-5 negatif\n",
      "-8 negatif\n"
     ]
    }
   ],
   "source": [
    "for element in range(10,-10,-3):\n",
    "    signe(element)  #ici au lieu de dire print element, utilise notre fonction signe, qui nous dira le signe de chaque nombre\""
   ]
  },
  {
   "cell_type": "code",
   "execution_count": 29,
   "metadata": {},
   "outputs": [
    {
     "name": "stdout",
     "output_type": "stream",
     "text": [
      "0\n",
      "1\n",
      "2\n",
      "3\n",
      "4\n",
      "5\n",
      "6\n",
      "7\n",
      "8\n",
      "9\n"
     ]
    }
   ],
   "source": [
    "#Boucle while \n",
    "x=0\n",
    "while x<10:\n",
    "    print(x)\n",
    "    x+=1 # on fait x=x+1 aussi longtemps que x est inférieur à 1à"
   ]
  },
  {
   "cell_type": "code",
   "execution_count": 137,
   "metadata": {},
   "outputs": [],
   "source": [
    "#les structures de données: liste,tuple, string\n",
    "#Liste\n",
    "liste_1= [1,2,3,4]\n",
    "villes=['Paris', 'Londres', 'Porto', 'Rome']\n",
    "#une liste qui contient des listes\n",
    "liste_2=[liste_1,villes]\n",
    "liste_3= []   #une liste vide\n"
   ]
  },
  {
   "cell_type": "code",
   "execution_count": 35,
   "metadata": {},
   "outputs": [],
   "source": [
    "#les tuples    (comme une liste mais on ne peut pas la modifier)\n",
    "tuple_1=(5,6,7,8)\n"
   ]
  },
  {
   "cell_type": "code",
   "execution_count": 47,
   "metadata": {},
   "outputs": [],
   "source": [
    "#La string (chaîne de caractère)\n",
    "prenom= 'André'\n",
    "#les listes, tuples, strings  sont des structures de données qui forment des séquences (un ensemble d'élément ordonné)\n",
    "#dans le prénom André, y'a un début: A, et une fin \"é\"\n",
    "#dans une séquence chaque élément à un index\n",
    "#dans la liste villes, Paris est à l'index 0 et Londres est a l'index 1.\n",
    "#dans la liste_1, 1 est a l'index 0\n",
    "\n",
    "#On peut donc directement accéder aux éléments de notre liste"
   ]
  },
  {
   "cell_type": "code",
   "execution_count": 37,
   "metadata": {},
   "outputs": [
    {
     "name": "stdout",
     "output_type": "stream",
     "text": [
      "Paris\n",
      "Londres\n",
      "Rome\n",
      "Porto\n"
     ]
    }
   ],
   "source": [
    "#Indexing     (technique permettant d'accéder aux éléments de notre liste)\n",
    "\n",
    "print(villes[0])  #pour avoir le premier élément de la liste \n",
    "print(villes[1]) #pour avoir le deuxième élément\n",
    "\n",
    "print(villes[-1]) #Pour accéder au dernier élément de la liste\n",
    "print(villes[-2]) #Pour accéder a l'avant dernier élément de la liste"
   ]
  },
  {
   "cell_type": "code",
   "execution_count": 48,
   "metadata": {},
   "outputs": [
    {
     "name": "stdout",
     "output_type": "stream",
     "text": [
      "['Paris', 'Londres', 'Porto']\n",
      "['Porto', 'Rome']\n",
      "['Londres', 'Porto']\n",
      "['Paris', 'Porto']\n",
      "And\n"
     ]
    }
   ],
   "source": [
    "#slicing (permet d'accéder a une fourchette d'élement dans notre séquence en indiquant une fourchette d'index)\n",
    "# Liste [debut : fin : pas]   pas= e combien on saute\n",
    "print(villes[0:3]) # si on commence par l'index 0 on peut juste écrire:   :3 \n",
    "print(villes[2:])  # du 2, usqu'au dernier élément \n",
    "print(villes[1:3])\n",
    "print(villes[0:4:2]) #pas de 2\n",
    "\n",
    "print(prenom[:3])"
   ]
  },
  {
   "cell_type": "code",
   "execution_count": 51,
   "metadata": {},
   "outputs": [
    {
     "data": {
      "text/plain": [
       "['Lyon', 'Londres', 'Porto', 'Rome']"
      ]
     },
     "execution_count": 51,
     "metadata": {},
     "output_type": "execute_result"
    }
   ],
   "source": [
    "#pour modifier les séquences\n",
    "villes[0]=\"Lyon\"   #on change paris par lyon\n",
    "villes"
   ]
  },
  {
   "cell_type": "code",
   "execution_count": 69,
   "metadata": {},
   "outputs": [
    {
     "data": {
      "text/plain": [
       "['Paris',\n",
       " 'Londres',\n",
       " 'Madrid',\n",
       " 'Porto',\n",
       " 'Rome',\n",
       " 'Dublin',\n",
       " 'Tokyo',\n",
       " 'Angers',\n",
       " 'Milan']"
      ]
     },
     "execution_count": 69,
     "metadata": {},
     "output_type": "execute_result"
    }
   ],
   "source": [
    "#voir les actions qu'on peut effectuer sur une liste.\n",
    "#liste. appuyer sur \"Tab\" pour voir les actions qu'on peut effectuer\n",
    "villes.append('Dublin')  # append permet d'ajouter un élément tout à la fin de notre liste\n",
    "villes.insert(2,\"Madrid\")  #insert permet d'insérer un élément a n'importe quel endroit de la liste. ici on veut après l'index2\n",
    "\n",
    "#ajouter une liste a la fin d'une liste on utilise extend\n",
    "villes_2= ['Tokyo', 'Angers', 'Milan']\n",
    "villes.extend(villes_2)\n",
    "villes"
   ]
  },
  {
   "cell_type": "code",
   "execution_count": 75,
   "metadata": {},
   "outputs": [
    {
     "data": {
      "text/plain": [
       "0"
      ]
     },
     "execution_count": 75,
     "metadata": {},
     "output_type": "execute_result"
    }
   ],
   "source": [
    "len(villes)# pour compter le nombre de villes qu'on a dans la liste\n"
   ]
  },
  {
   "cell_type": "code",
   "execution_count": 79,
   "metadata": {},
   "outputs": [
    {
     "data": {
      "text/plain": [
       "['Angers',\n",
       " 'Dublin',\n",
       " 'Londres',\n",
       " 'Madrid',\n",
       " 'Milan',\n",
       " 'Paris',\n",
       " 'Porto',\n",
       " 'Rome',\n",
       " 'Tokyo']"
      ]
     },
     "execution_count": 79,
     "metadata": {},
     "output_type": "execute_result"
    }
   ],
   "source": [
    "villes.sort() #on tie par ordre alphabétique.\n",
    "#pour l'inverse : villes.sort(reverse=True)\n",
    "#ça marche aussi sur les listes contenant des chiffres\n",
    "villes\n"
   ]
  },
  {
   "cell_type": "code",
   "execution_count": 80,
   "metadata": {},
   "outputs": [
    {
     "data": {
      "text/plain": [
       "1"
      ]
     },
     "execution_count": 80,
     "metadata": {},
     "output_type": "execute_result"
    }
   ],
   "source": [
    "#compter combien de fois une valeur apparaît dans ma liste \n",
    "villes.count(\"Paris\")"
   ]
  },
  {
   "cell_type": "code",
   "execution_count": 138,
   "metadata": {},
   "outputs": [
    {
     "name": "stdout",
     "output_type": "stream",
     "text": [
      "oui\n"
     ]
    }
   ],
   "source": [
    "#utiliser les listes dans une tructure de controle\"\n",
    "if \"Paris\" in villes:\n",
    "    print(\"oui\")\n",
    "else:\n",
    "    print(\"non\")"
   ]
  },
  {
   "cell_type": "code",
   "execution_count": 84,
   "metadata": {},
   "outputs": [
    {
     "name": "stdout",
     "output_type": "stream",
     "text": [
      "0 Angers\n",
      "1 Dublin\n",
      "2 Londres\n",
      "3 Madrid\n",
      "4 Milan\n",
      "5 Paris\n",
      "6 Porto\n",
      "7 Rome\n",
      "8 Tokyo\n"
     ]
    }
   ],
   "source": [
    "for index,valeur in enumerate(villes):\n",
    "    print(index,valeur)"
   ]
  },
  {
   "cell_type": "code",
   "execution_count": 89,
   "metadata": {},
   "outputs": [
    {
     "name": "stdout",
     "output_type": "stream",
     "text": [
      "Paris [1, 2, 3, 4]\n",
      "Londres ['Paris', 'Londres', 'Porto', 'Rome']\n"
     ]
    }
   ],
   "source": [
    "for a,b in zip(villes,liste_2):  #zip permet d'utiliser la boucle for avec deux listes en parallèlle\n",
    "    print(a,b)"
   ]
  },
  {
   "cell_type": "code",
   "execution_count": null,
   "metadata": {},
   "outputs": [],
   "source": [
    "# Les dictionaires \n"
   ]
  },
  {
   "cell_type": "code",
   "execution_count": 152,
   "metadata": {},
   "outputs": [],
   "source": [
    "#Programmation orientée objet\n",
    "#Un objet a des atributs (marque, couleur, poids...) et cet objet effectue des actions: des méthodes\n",
    "#méthodes( écrire, efaccer...)\n",
    "#le langage humain (des noms (objets), des adjectifs (attributs) et des verbes pour designer des actions)\n",
    "\n"
   ]
  },
  {
   "cell_type": "code",
   "execution_count": null,
   "metadata": {},
   "outputs": [],
   "source": [
    "#la classe numpy.ndarray, classe permettant de créer des objets qui sont des tableaux à n dimensions.\n",
    "#les obhets sont des tableaux qui ont des aattributs comme: la taille de tableau..\n",
    "#ces objets ont des méthodes, comme faire la somme...\n"
   ]
  },
  {
   "cell_type": "code",
   "execution_count": 2,
   "metadata": {},
   "outputs": [],
   "source": [
    "import numpy as np"
   ]
  },
  {
   "cell_type": "code",
   "execution_count": 3,
   "metadata": {},
   "outputs": [],
   "source": [
    "tableau = np.array([1,2,3])"
   ]
  },
  {
   "cell_type": "code",
   "execution_count": 4,
   "metadata": {
    "scrolled": true
   },
   "outputs": [
    {
     "name": "stdout",
     "output_type": "stream",
     "text": [
      "3\n",
      "(3,)\n"
     ]
    }
   ],
   "source": [
    "#Pour voir les actions (Méthodes) et les attributs qu'on peut effectuer sur l'objet tableau il faut ecrire tableau. (et appuyer ur tab)\n",
    "print (tableau.size)  #pour la taille \n",
    "#dans spider on a un f pour désigner une fonction, et un a pour désigner un attribut\n",
    "print (tableau.shape)\n"
   ]
  },
  {
   "cell_type": "code",
   "execution_count": 6,
   "metadata": {},
   "outputs": [
    {
     "data": {
      "text/plain": [
       "3"
      ]
     },
     "execution_count": 6,
     "metadata": {},
     "output_type": "execute_result"
    }
   ],
   "source": [
    "#Python Numpy (machine learning)\n",
    "#attribut \"shape\" (ndarray.shape)permet de voir quelle est la forme de notre tableau (le nombre de lignes,colonnes=\n",
    "tableau.ndim #pour voir le nombre de dimensions (ici 1 dimension car on a que des lignes, pas de colonnes)\n",
    "#Shape est un tuple\n",
    "tableau.shape[0] # ça donne le nombre de lignes seulement\n",
    "# tableau.shape[1] #ça donne le nombre de colonnes seulement\n",
    "\n",
    "#Shape et Size sont les deux attributs importants en Machine learning et data science"
   ]
  },
  {
   "cell_type": "code",
   "execution_count": null,
   "metadata": {},
   "outputs": [],
   "source": [
    "# constructeur\n",
    "# np.array\n",
    "# np.zeros\n",
    "# np.random.randn"
   ]
  },
  {
   "cell_type": "code",
   "execution_count": 23,
   "metadata": {},
   "outputs": [
    {
     "data": {
      "text/plain": [
       "(3,)"
      ]
     },
     "execution_count": 23,
     "metadata": {},
     "output_type": "execute_result"
    }
   ],
   "source": [
    "A=np.array([1,2,3])\n",
    "A.shape\n"
   ]
  },
  {
   "cell_type": "code",
   "execution_count": 24,
   "metadata": {},
   "outputs": [
    {
     "data": {
      "text/plain": [
       "tuple"
      ]
     },
     "execution_count": 24,
     "metadata": {},
     "output_type": "execute_result"
    }
   ],
   "source": [
    "B=np.zeros((3,2))   #initialiser un tableau avec les 0\n",
    "B\n",
    "type(B.shape)"
   ]
  },
  {
   "cell_type": "code",
   "execution_count": 40,
   "metadata": {},
   "outputs": [
    {
     "data": {
      "text/plain": [
       "array([[1., 1.],\n",
       "       [1., 1.],\n",
       "       [1., 1.]])"
      ]
     },
     "execution_count": 40,
     "metadata": {},
     "output_type": "execute_result"
    }
   ],
   "source": [
    "C= np.ones((3,2))   #initialiser un tableau avec les 1\n",
    "C"
   ]
  },
  {
   "cell_type": "code",
   "execution_count": 14,
   "metadata": {},
   "outputs": [
    {
     "data": {
      "text/plain": [
       "array([[9, 9, 9],\n",
       "       [9, 9, 9]])"
      ]
     },
     "execution_count": 14,
     "metadata": {},
     "output_type": "execute_result"
    }
   ],
   "source": [
    "#initialiser un tableau avec le nombre qu'on veut, (ici c'est 9)\n",
    "D=np.full((2,3),9)    #2 lignes 3 colonnes\n",
    "D"
   ]
  },
  {
   "cell_type": "code",
   "execution_count": 17,
   "metadata": {},
   "outputs": [
    {
     "data": {
      "text/plain": [
       "array([[-0.99460417,  1.12118159, -1.60214105,  2.21426429],\n",
       "       [ 0.73512285,  0.14993534,  0.51077716,  1.49344581],\n",
       "       [-0.98493558,  1.28542627,  0.10582669, -0.19440397]])"
      ]
     },
     "execution_count": 17,
     "metadata": {},
     "output_type": "execute_result"
    }
   ],
   "source": [
    "#initialiser un tableau avec les nombres aléatoires\n",
    "#randn prend des nombres de la loi noramel, centrée a 0\n",
    "np.random.randn(3,4)     # ce n'est plus un ruple, donc ps besoin d'une seconde parenthèse\n",
    "#ça nous donne des nombres aléatoires mais distribués selon la loi normale centrée en 0\n",
    "#a chaque fois on aura des nouveaux nombres si on refait la fonction"
   ]
  },
  {
   "cell_type": "code",
   "execution_count": 27,
   "metadata": {},
   "outputs": [
    {
     "data": {
      "text/plain": [
       "array([[ 1.76405235,  0.40015721,  0.97873798,  2.2408932 ],\n",
       "       [ 1.86755799, -0.97727788,  0.95008842, -0.15135721],\n",
       "       [-0.10321885,  0.4105985 ,  0.14404357,  1.45427351]])"
      ]
     },
     "execution_count": 27,
     "metadata": {},
     "output_type": "execute_result"
    }
   ],
   "source": [
    "#si on veut grder les mêmes nombres on peut fixer avec le terme \"seed(0)\"\n",
    "np.random.seed(0)\n",
    "np.random.randn(3,4)     \n",
    "\n",
    "#on aura toujours le même nombre aléatoire"
   ]
  },
  {
   "cell_type": "code",
   "execution_count": 28,
   "metadata": {},
   "outputs": [
    {
     "data": {
      "text/plain": [
       "array([[1., 0., 0., 0.],\n",
       "       [0., 1., 0., 0.],\n",
       "       [0., 0., 1., 0.],\n",
       "       [0., 0., 0., 1.]])"
      ]
     },
     "execution_count": 28,
     "metadata": {},
     "output_type": "execute_result"
    }
   ],
   "source": [
    "#générateur eye pour créer une matrice identité\n",
    "np.eye(4)"
   ]
  },
  {
   "cell_type": "code",
   "execution_count": null,
   "metadata": {},
   "outputs": [],
   "source": [
    "#constructeur linspace et arange, utiles pour Matplotlib\n",
    "# np.linspace(debut,fin,quantité)\n",
    "#np.arange(début,fin,pas)\n",
    "\n"
   ]
  },
  {
   "cell_type": "code",
   "execution_count": 34,
   "metadata": {},
   "outputs": [
    {
     "data": {
      "text/plain": [
       "array([ 0.        ,  0.52631579,  1.05263158,  1.57894737,  2.10526316,\n",
       "        2.63157895,  3.15789474,  3.68421053,  4.21052632,  4.73684211,\n",
       "        5.26315789,  5.78947368,  6.31578947,  6.84210526,  7.36842105,\n",
       "        7.89473684,  8.42105263,  8.94736842,  9.47368421, 10.        ])"
      ]
     },
     "execution_count": 34,
     "metadata": {},
     "output_type": "execute_result"
    }
   ],
   "source": [
    "#np.linpace va nous donner un point de début, un point de fin et des quantités égales entre le point de déut et de fin.\n",
    "np.linspace(0,10,20)# on repartit les valeurs entre 0 et 10 de façon égale, ici on a +O,52 a chaque fois"
   ]
  },
  {
   "cell_type": "code",
   "execution_count": 31,
   "metadata": {},
   "outputs": [
    {
     "data": {
      "text/plain": [
       "array([0. , 0.5, 1. , 1.5, 2. , 2.5, 3. , 3.5, 4. , 4.5, 5. , 5.5, 6. ,\n",
       "       6.5, 7. , 7.5, 8. , 8.5, 9. , 9.5])"
      ]
     },
     "execution_count": 31,
     "metadata": {},
     "output_type": "execute_result"
    }
   ],
   "source": [
    "#arange donne le point de début et de fin et on indique le pas qu'on veut avoir entre nos deux éléments\n",
    "np.arange(0,10, 0.5)"
   ]
  },
  {
   "cell_type": "code",
   "execution_count": 36,
   "metadata": {},
   "outputs": [
    {
     "data": {
      "text/plain": [
       "array([ 0.    ,  0.5264,  1.053 ,  1.579 ,  2.105 ,  2.63  ,  3.158 ,\n",
       "        3.684 ,  4.21  ,  4.74  ,  5.26  ,  5.79  ,  6.316 ,  6.844 ,\n",
       "        7.367 ,  7.895 ,  8.42  ,  8.945 ,  9.48  , 10.    ],\n",
       "      dtype=float16)"
      ]
     },
     "execution_count": 36,
     "metadata": {},
     "output_type": "execute_result"
    }
   ],
   "source": [
    "#On peut choisir le type de données qu'on souhaite avoir avec dtype\n",
    "#np.foat16   (plus rapide mais moins précis) = Pi= 3,14\n",
    "#np.float64 plus précis mais moins rapide => Pi= 3,14159265.....\n",
    "\n",
    "np.linspace(0,10,20, dtype=np.float16)   #pour construire des codes puissants et performants faut souvent manipuler \n",
    "#le type de donnée qu'on a dans nos tableaux"
   ]
  },
  {
   "cell_type": "markdown",
   "metadata": {},
   "source": [
    "### Manipulation (méthodes pour manipuler les tableau: les assembler, les diviser ...)"
   ]
  },
  {
   "cell_type": "code",
   "execution_count": 41,
   "metadata": {},
   "outputs": [
    {
     "name": "stdout",
     "output_type": "stream",
     "text": [
      "[[0. 0.]\n",
      " [0. 0.]\n",
      " [0. 0.]]\n",
      "[[1. 1.]\n",
      " [1. 1.]\n",
      " [1. 1.]]\n"
     ]
    }
   ],
   "source": [
    "print(B)\n",
    "print(C)\n",
    "#ici on a deux tableaux avec les mêmes dimensions\n"
   ]
  },
  {
   "cell_type": "code",
   "execution_count": 48,
   "metadata": {},
   "outputs": [
    {
     "data": {
      "text/plain": [
       "array([[0., 0., 1., 1.],\n",
       "       [0., 0., 1., 1.],\n",
       "       [0., 0., 1., 1.]])"
      ]
     },
     "execution_count": 48,
     "metadata": {},
     "output_type": "execute_result"
    }
   ],
   "source": [
    "#pour coller les deux tableaux\n",
    "#façcon horizontale\n",
    "E=np.hstack((B,C))\n",
    "E\n",
    "#E.shape\n",
    "#E.size"
   ]
  },
  {
   "cell_type": "code",
   "execution_count": 60,
   "metadata": {},
   "outputs": [
    {
     "data": {
      "text/plain": [
       "12"
      ]
     },
     "execution_count": 60,
     "metadata": {},
     "output_type": "execute_result"
    }
   ],
   "source": [
    "# vstack colle les tableaux de façon verticale\n",
    "F= np.vstack((B,C))\n",
    "F.size"
   ]
  },
  {
   "cell_type": "code",
   "execution_count": 52,
   "metadata": {},
   "outputs": [
    {
     "data": {
      "text/plain": [
       "array([[0., 0., 1., 1.],\n",
       "       [0., 0., 1., 1.],\n",
       "       [0., 0., 1., 1.]])"
      ]
     },
     "execution_count": 52,
     "metadata": {},
     "output_type": "execute_result"
    }
   ],
   "source": [
    "# On peut aussi utiliser la méthode \"concatenate)\n",
    "np.concatenate((B,C),axis=0)  #donne la même chose que vstack, ça colle en verticale (les lignes sous les autres)\n",
    "np.concatenate((B,C),axis=1) #donne la même chose que hstack, ça colle en horizontale(par colonnes)\n",
    "   #axis=2, si on  les tableaux en 3 dimensions"
   ]
  },
  {
   "cell_type": "code",
   "execution_count": 62,
   "metadata": {},
   "outputs": [
    {
     "data": {
      "text/plain": [
       "array([[0., 0., 0., 0.],\n",
       "       [0., 0., 1., 1.],\n",
       "       [1., 1., 1., 1.]])"
      ]
     },
     "execution_count": 62,
     "metadata": {},
     "output_type": "execute_result"
    }
   ],
   "source": [
    "# Remanipuler l forme d'un tableau\n",
    "#avc reshape. fonctionne si le nombre d'éléments qu'on a dans la forme initiale, est égale au nombre d'éléments dans la forme finale\n",
    "F.size  # on a une taille de 12. (6 lignes 2 colonnes)\n",
    "F=F.reshape((3,4))  #on fait passer ça en 3 lignes 4 colonnes \n",
    "F"
   ]
  },
  {
   "cell_type": "code",
   "execution_count": 75,
   "metadata": {},
   "outputs": [
    {
     "data": {
      "text/plain": [
       "(3,)"
      ]
     },
     "execution_count": 75,
     "metadata": {},
     "output_type": "execute_result"
    }
   ],
   "source": [
    "A= np.array([1,2,3])\n",
    "A.shape   # ici on a (3,) le fait qu'il y ait une colonne mais que ce n'est pas mentionné (3,1) peut souvent causer\n",
    "# des problemes dans certains algorithmes. Dans les tableaux à une dimension, on utilise beaucoup reshape pour eviter ce problème.\n",
    "\n",
    "A=A.reshape((A.shape[0],1))\n",
    "A.shape  # et là on a (3,1)\n",
    "#in aurait pu écrireA.reshape((3,1)) vu qu'on connaît déja les dimensions de A\n",
    "#mais faire apparaître le 1, peut aussi créer des problèmes si on veut faire des graphiques...\n",
    "\n",
    "A=A.squeeze()  #permet de remettre le shape d'origine\n",
    "A.shape    # on se retrouve avec (3,)\n"
   ]
  },
  {
   "cell_type": "code",
   "execution_count": 83,
   "metadata": {},
   "outputs": [
    {
     "data": {
      "text/plain": [
       "(12,)"
      ]
     },
     "execution_count": 83,
     "metadata": {},
     "output_type": "execute_result"
    }
   ],
   "source": [
    "#la méthode ravel, permet d'applatir un tableau a une seule dimension\n",
    "F.shape   #on a un tableau 3,4\n",
    "F.ravel()  #tous les nombres s'écrivent sur une ligne\n",
    "F.ravel().shape #pour vérifier les dimensions"
   ]
  },
  {
   "cell_type": "code",
   "execution_count": null,
   "metadata": {},
   "outputs": [],
   "source": []
  },
  {
   "cell_type": "markdown",
   "metadata": {},
   "source": [
    "#### Numpy: indexing, Slicing, Masking"
   ]
  },
  {
   "cell_type": "code",
   "execution_count": 3,
   "metadata": {},
   "outputs": [
    {
     "data": {
      "text/plain": [
       "array([[1, 2, 3],\n",
       "       [4, 5, 6],\n",
       "       [7, 8, 9]])"
      ]
     },
     "execution_count": 3,
     "metadata": {},
     "output_type": "execute_result"
    }
   ],
   "source": [
    "import numpy as np\n",
    "A=np.array([[1,2,3],[4,5,6],[7,8,9]])\n",
    "A"
   ]
  },
  {
   "cell_type": "code",
   "execution_count": 4,
   "metadata": {},
   "outputs": [
    {
     "data": {
      "text/plain": [
       "5"
      ]
     },
     "execution_count": 4,
     "metadata": {},
     "output_type": "execute_result"
    }
   ],
   "source": [
    "# indexing: axéder à un élément d'une ligne ou d'une colonne\n",
    "A[0,0]   #on veut voir lélément de la première ligne et première colonne\n",
    "A[0,1]  #première ligne deuxième colonne\n",
    "A[1,1] # deuxième ligne deuxième colonne"
   ]
  },
  {
   "cell_type": "code",
   "execution_count": 95,
   "metadata": {},
   "outputs": [
    {
     "data": {
      "text/plain": [
       "array([1, 2, 3])"
      ]
     },
     "execution_count": 95,
     "metadata": {},
     "output_type": "execute_result"
    }
   ],
   "source": [
    "#Slicing\n",
    "# A[début:fin, début:fin]\n",
    "\n",
    "A[:,0] # si on veut imprimer tout ce qu'il y a sur la première colonne\n",
    "# : indique tout ce qu'il y a du début a la fin\n",
    "A[0, :] # tous les éléments de la première ligne\n",
    "#ou tout simplment\n",
    "A[0]"
   ]
  },
  {
   "cell_type": "code",
   "execution_count": 98,
   "metadata": {},
   "outputs": [
    {
     "data": {
      "text/plain": [
       "array([[1, 2],\n",
       "       [4, 5]])"
      ]
     },
     "execution_count": 98,
     "metadata": {},
     "output_type": "execute_result"
    }
   ],
   "source": [
    "#Si on veut sélectionner un bloc\n",
    "A[0:2, 0:2] # première jusqu'à la seconde ligne, et la première colonne jusqu'a la 2eme colonne\n",
    "#on peut creer un tableau B qui est égale a cette section du tableau A\n",
    "B= A[0:2, 0:2]\n",
    "B"
   ]
  },
  {
   "cell_type": "code",
   "execution_count": 100,
   "metadata": {},
   "outputs": [
    {
     "data": {
      "text/plain": [
       "array([[10, 10,  3],\n",
       "       [10, 10,  6],\n",
       "       [ 7,  8,  9]])"
      ]
     },
     "execution_count": 100,
     "metadata": {},
     "output_type": "execute_result"
    }
   ],
   "source": [
    "#on peut aussi modifier cette partie de la table A, en lui donnant une valeur.\n",
    "A[0:2, 0:2]=10 #on aura des 10 sur les parties sélectionnées\"\n",
    "A"
   ]
  },
  {
   "cell_type": "code",
   "execution_count": 101,
   "metadata": {},
   "outputs": [
    {
     "data": {
      "text/plain": [
       "array([[10,  3],\n",
       "       [10,  6],\n",
       "       [ 8,  9]])"
      ]
     },
     "execution_count": 101,
     "metadata": {},
     "output_type": "execute_result"
    }
   ],
   "source": [
    "A[:,-2:]"
   ]
  },
  {
   "cell_type": "code",
   "execution_count": 104,
   "metadata": {},
   "outputs": [
    {
     "data": {
      "text/plain": [
       "array([[0., 0., 0., 0.],\n",
       "       [0., 0., 0., 0.],\n",
       "       [0., 0., 0., 0.],\n",
       "       [0., 0., 0., 0.]])"
      ]
     },
     "execution_count": 104,
     "metadata": {},
     "output_type": "execute_result"
    }
   ],
   "source": [
    "B=np.zeros((4,4))\n",
    "B"
   ]
  },
  {
   "cell_type": "code",
   "execution_count": 108,
   "metadata": {},
   "outputs": [
    {
     "data": {
      "text/plain": [
       "array([[0., 0., 0., 0.],\n",
       "       [0., 1., 1., 0.],\n",
       "       [0., 1., 1., 0.],\n",
       "       [0., 0., 0., 0.]])"
      ]
     },
     "execution_count": 108,
     "metadata": {},
     "output_type": "execute_result"
    }
   ],
   "source": [
    "B[1:3,1:3]=1\n",
    "B"
   ]
  },
  {
   "cell_type": "code",
   "execution_count": 110,
   "metadata": {},
   "outputs": [
    {
     "data": {
      "text/plain": [
       "array([[0., 0., 0., 0., 0.],\n",
       "       [0., 0., 0., 0., 0.],\n",
       "       [0., 0., 0., 0., 0.],\n",
       "       [0., 0., 0., 0., 0.],\n",
       "       [0., 0., 0., 0., 0.]])"
      ]
     },
     "execution_count": 110,
     "metadata": {},
     "output_type": "execute_result"
    }
   ],
   "source": [
    "C=np.zeros((5,5))\n",
    "C"
   ]
  },
  {
   "cell_type": "code",
   "execution_count": 112,
   "metadata": {},
   "outputs": [
    {
     "data": {
      "text/plain": [
       "array([[1., 0., 1., 0., 1.],\n",
       "       [0., 0., 0., 0., 0.],\n",
       "       [1., 0., 1., 0., 1.],\n",
       "       [0., 0., 0., 0., 0.],\n",
       "       [1., 0., 1., 0., 1.]])"
      ]
     },
     "execution_count": 112,
     "metadata": {},
     "output_type": "execute_result"
    }
   ],
   "source": [
    "### Slicing\n",
    "#A[début:fin:pas, début:fin:pas]\n",
    "C[::2,::2]=1  # toutes les valeurs du début jusqu'à la fin en sautant d'un pas de 2 pour les lignes et les colonnes \n",
    "C"
   ]
  },
  {
   "cell_type": "code",
   "execution_count": 5,
   "metadata": {},
   "outputs": [
    {
     "data": {
      "text/plain": [
       "array([[4, 7, 3, 1, 8],\n",
       "       [0, 3, 3, 6, 9],\n",
       "       [7, 8, 6, 4, 2],\n",
       "       [5, 7, 0, 8, 4],\n",
       "       [7, 3, 7, 8, 9]])"
      ]
     },
     "execution_count": 5,
     "metadata": {},
     "output_type": "execute_result"
    }
   ],
   "source": [
    "#technique Boolean indexing\n",
    "A=np.random.randint(0,10, [5,5]) #on veut des nombres entiers aléatoires entre 0 et 10, de dimension 5,5\n",
    "A"
   ]
  },
  {
   "cell_type": "code",
   "execution_count": 115,
   "metadata": {},
   "outputs": [
    {
     "data": {
      "text/plain": [
       "array([[ True, False,  True,  True, False],\n",
       "       [ True,  True,  True,  True, False],\n",
       "       [False, False, False,  True,  True],\n",
       "       [ True, False, False,  True,  True],\n",
       "       [False, False, False,  True, False]])"
      ]
     },
     "execution_count": 115,
     "metadata": {},
     "output_type": "execute_result"
    }
   ],
   "source": [
    "A < 5  #on a tous les éléments du tableaux qui sont inférieurs a 5. ce tableau est un mask"
   ]
  },
  {
   "cell_type": "code",
   "execution_count": 117,
   "metadata": {},
   "outputs": [
    {
     "data": {
      "text/plain": [
       "array([[10,  7, 10, 10,  7],\n",
       "       [10, 10, 10, 10,  5],\n",
       "       [ 5,  6,  8, 10, 10],\n",
       "       [10,  9,  8, 10, 10],\n",
       "       [ 7,  9,  9, 10,  6]])"
      ]
     },
     "execution_count": 117,
     "metadata": {},
     "output_type": "execute_result"
    }
   ],
   "source": [
    "A[A<5]=10  #on sélections tous les éléments où A est inférieur à 5, et on donne la valeur de 10\n",
    "A\n",
    "#utile pour convertir les valeurs dans les tableaux lorsque celles-ci sont inférieures à un certain seuil"
   ]
  },
  {
   "cell_type": "code",
   "execution_count": 121,
   "metadata": {},
   "outputs": [
    {
     "data": {
      "text/plain": [
       "array([[ 7,  2,  0, 10,  5],\n",
       "       [ 9, 10, 10,  6, 10],\n",
       "       [10, 10, 10, 10,  8],\n",
       "       [10, 10,  7,  5,  5],\n",
       "       [ 0,  1,  5,  9, 10]])"
      ]
     },
     "execution_count": 121,
     "metadata": {},
     "output_type": "execute_result"
    }
   ],
   "source": [
    "#on ractualise A\n",
    "A[(A<5) & (A>2)]=10   #on sélectionne les valeurs o A est inférieure à 5 et supérieur a 2\n",
    "A"
   ]
  },
  {
   "cell_type": "code",
   "execution_count": 122,
   "metadata": {},
   "outputs": [
    {
     "data": {
      "text/plain": [
       "array([2, 0, 0, 1])"
      ]
     },
     "execution_count": 122,
     "metadata": {},
     "output_type": "execute_result"
    }
   ],
   "source": [
    "A[A<5]  #on filtre. on prend juste les éléments pour lesquels A<5"
   ]
  },
  {
   "cell_type": "code",
   "execution_count": 125,
   "metadata": {},
   "outputs": [
    {
     "data": {
      "text/plain": [
       "array([-1.27698899,  0.83771977,  0.2222599 ,  0.43518297])"
      ]
     },
     "execution_count": 125,
     "metadata": {},
     "output_type": "execute_result"
    }
   ],
   "source": [
    "B= np.random.randn(5,5)\n",
    "B[A<5] #les valeurs proviennent de B mais ont été sélectionné grace au Booléan idexing de A"
   ]
  },
  {
   "cell_type": "code",
   "execution_count": null,
   "metadata": {},
   "outputs": [],
   "source": []
  },
  {
   "cell_type": "code",
   "execution_count": 131,
   "metadata": {},
   "outputs": [
    {
     "data": {
      "text/plain": [
       "<function matplotlib.pyplot.show(*args, **kw)>"
      ]
     },
     "execution_count": 131,
     "metadata": {},
     "output_type": "execute_result"
    },
    {
     "data": {
      "image/png": "[encoded data removed]",
      "text/plain": [
       "<Figure size 432x288 with 1 Axes>"
      ]
     },
     "metadata": {
      "needs_background": "light"
     },
     "output_type": "display_data"
    }
   ],
   "source": [
    "from scipy import misc\n",
    "import matplotlib.pyplot as plt\n",
    "face= misc.face()\n",
    "plt.imshow(face)\n",
    "plt.show"
   ]
  },
  {
   "cell_type": "code",
   "execution_count": 133,
   "metadata": {},
   "outputs": [
    {
     "data": {
      "text/plain": [
       "(768, 1024, 3)"
      ]
     },
     "execution_count": 133,
     "metadata": {},
     "output_type": "execute_result"
    }
   ],
   "source": [
    "type(face)\n",
    "face.shape"
   ]
  },
  {
   "cell_type": "code",
   "execution_count": 134,
   "metadata": {},
   "outputs": [
    {
     "data": {
      "text/plain": [
       "<function matplotlib.pyplot.show(*args, **kw)>"
      ]
     },
     "execution_count": 134,
     "metadata": {},
     "output_type": "execute_result"
    },
    {
     "data": {
      "image/png": "[encoded data removed]",
      "text/plain": [
       "<Figure size 432x288 with 1 Axes>"
      ]
     },
     "metadata": {
      "needs_background": "light"
     },
     "output_type": "display_data"
    }
   ],
   "source": [
    "#On va imprimer la photo en noir et blanc\n",
    "from scipy import misc\n",
    "import matplotlib.pyplot as plt\n",
    "face= misc.face(gray=True)\n",
    "plt.imshow(face,cmap=plt.cm.gray)\n",
    "plt.show"
   ]
  },
  {
   "cell_type": "code",
   "execution_count": null,
   "metadata": {},
   "outputs": [],
   "source": []
  },
  {
   "cell_type": "markdown",
   "metadata": {},
   "source": [
    "Numpy: Statistiques et mathématiques"
   ]
  },
  {
   "cell_type": "markdown",
   "metadata": {},
   "source": [
    "#### Methodes ndarray"
   ]
  },
  {
   "cell_type": "code",
   "execution_count": 27,
   "metadata": {},
   "outputs": [
    {
     "data": {
      "text/plain": [
       "array([[5, 0, 3],\n",
       "       [3, 7, 9]])"
      ]
     },
     "execution_count": 27,
     "metadata": {},
     "output_type": "execute_result"
    }
   ],
   "source": [
    "#on génère un tableau\n",
    "np.random.seed(0)\n",
    "A=np.random.randint(0,10,[2,3])\n",
    "A"
   ]
  },
  {
   "cell_type": "code",
   "execution_count": 28,
   "metadata": {},
   "outputs": [
    {
     "data": {
      "text/plain": [
       "27"
      ]
     },
     "execution_count": 28,
     "metadata": {},
     "output_type": "execute_result"
    }
   ],
   "source": [
    "A.sum()"
   ]
  },
  {
   "cell_type": "code",
   "execution_count": 30,
   "metadata": {},
   "outputs": [
    {
     "data": {
      "text/plain": [
       "array([ 8, 19])"
      ]
     },
     "execution_count": 30,
     "metadata": {},
     "output_type": "execute_result"
    }
   ],
   "source": [
    "#faire la somme sur un seul axe du tableau\n",
    "#axe 0= axe verticale\n",
    "A.sum(axis=0)\n",
    "#axe 1= axe horizentale     (somme de tous les éléments qui se suivent horizentalement, la somme sur la ligne)\n",
    "A.sum(axis=1)"
   ]
  },
  {
   "cell_type": "code",
   "execution_count": 31,
   "metadata": {},
   "outputs": [
    {
     "data": {
      "text/plain": [
       "array([ 5,  5,  8, 11, 18, 27], dtype=int32)"
      ]
     },
     "execution_count": 31,
     "metadata": {},
     "output_type": "execute_result"
    }
   ],
   "source": [
    "A.cumsum()   #somme cumulée"
   ]
  },
  {
   "cell_type": "code",
   "execution_count": 33,
   "metadata": {},
   "outputs": [
    {
     "data": {
      "text/plain": [
       "0"
      ]
     },
     "execution_count": 33,
     "metadata": {},
     "output_type": "execute_result"
    }
   ],
   "source": [
    "A.prod()"
   ]
  },
  {
   "cell_type": "code",
   "execution_count": 32,
   "metadata": {},
   "outputs": [
    {
     "data": {
      "text/plain": [
       "array([3, 0, 3])"
      ]
     },
     "execution_count": 32,
     "metadata": {},
     "output_type": "execute_result"
    }
   ],
   "source": [
    "A.min(axis=0)   #on compare nos nombres a la verticale"
   ]
  },
  {
   "cell_type": "code",
   "execution_count": 34,
   "metadata": {},
   "outputs": [
    {
     "data": {
      "text/plain": [
       "array([1, 0, 0], dtype=int64)"
      ]
     },
     "execution_count": 34,
     "metadata": {},
     "output_type": "execute_result"
    }
   ],
   "source": [
    "A.argmin(axis=0)   #on cherche la position du minimum"
   ]
  },
  {
   "cell_type": "code",
   "execution_count": 35,
   "metadata": {},
   "outputs": [
    {
     "ename": "NameError",
     "evalue": "name 'a' is not defined",
     "output_type": "error",
     "traceback": [
      "\u001b[1;31m---------------------------------------------------------------------------\u001b[0m",
      "\u001b[1;31mNameError\u001b[0m                                 Traceback (most recent call last)",
      "\u001b[1;32m<ipython-input-35-e60ad64cc5f8>\u001b[0m in \u001b[0;36m<module>\u001b[1;34m\u001b[0m\n\u001b[0;32m      2\u001b[0m \u001b[1;31m#grand au plus petit ou l'inverse\u001b[0m\u001b[1;33m\u001b[0m\u001b[1;33m\u001b[0m\u001b[1;33m\u001b[0m\u001b[0m\n\u001b[0;32m      3\u001b[0m \u001b[1;31m#sort permet de trier une liste de l'élément du plus grand au plus petit ou l'inverse\u001b[0m\u001b[1;33m\u001b[0m\u001b[1;33m\u001b[0m\u001b[1;33m\u001b[0m\u001b[0m\n\u001b[1;32m----> 4\u001b[1;33m \u001b[0ma\u001b[0m\u001b[1;33m.\u001b[0m\u001b[0margsort\u001b[0m\u001b[1;33m(\u001b[0m\u001b[1;33m)\u001b[0m\u001b[1;33m\u001b[0m\u001b[1;33m\u001b[0m\u001b[0m\n\u001b[0m",
      "\u001b[1;31mNameError\u001b[0m: name 'a' is not defined"
     ]
    }
   ],
   "source": [
    "#La méthode argsort permetde retourner la façon dont il faut placer nos differents index afin de trier notre tableau du plus\n",
    "#grand au plus petit ou l'inverse\n",
    "#sort permet de trier une liste de l'élément du plus grand au plus petit ou l'inverse\n"
   ]
  },
  {
   "cell_type": "markdown",
   "metadata": {},
   "source": [
    "# Documentations numpy\n",
    "\n",
    "## numpy statistiques\n",
    "https://docs.scipy.org/doc/numpy-1.13.0/reference/routines.statistics.html\n",
    "\n",
    "## numpy ndarray\n",
    "https://numpy.org/doc/stable/reference/generated/numpy.ndarray.html\n",
    "\n",
    "## numpy fonctions mathématiques\n",
    "https://docs.scipy.org/doc/numpy-1.13.0/reference/routines.math.html\n",
    "\n",
    "## numpy algèbre linéaire\n",
    "https://docs.scipy.org/doc/numpy-1.13.0/reference/routines.linalg.html\n",
    "\n"
   ]
  },
  {
   "cell_type": "markdown",
   "metadata": {},
   "source": [
    "## Statistiques "
   ]
  },
  {
   "cell_type": "code",
   "execution_count": 36,
   "metadata": {},
   "outputs": [
    {
     "data": {
      "text/plain": [
       "4.5"
      ]
     },
     "execution_count": 36,
     "metadata": {},
     "output_type": "execute_result"
    }
   ],
   "source": [
    "A.mean()"
   ]
  },
  {
   "cell_type": "code",
   "execution_count": 37,
   "metadata": {},
   "outputs": [
    {
     "data": {
      "text/plain": [
       "2.9297326385411577"
      ]
     },
     "execution_count": 37,
     "metadata": {},
     "output_type": "execute_result"
    }
   ],
   "source": [
    "A.std()   #ecart-type"
   ]
  },
  {
   "cell_type": "code",
   "execution_count": 38,
   "metadata": {},
   "outputs": [
    {
     "data": {
      "text/plain": [
       "8.583333333333334"
      ]
     },
     "execution_count": 38,
     "metadata": {},
     "output_type": "execute_result"
    }
   ],
   "source": [
    "A.var()"
   ]
  },
  {
   "cell_type": "code",
   "execution_count": 44,
   "metadata": {},
   "outputs": [
    {
     "data": {
      "text/plain": [
       "4.0"
      ]
     },
     "execution_count": 44,
     "metadata": {},
     "output_type": "execute_result"
    }
   ],
   "source": [
    "np.median(A)"
   ]
  },
  {
   "cell_type": "code",
   "execution_count": 45,
   "metadata": {},
   "outputs": [
    {
     "data": {
      "text/plain": [
       "4.5"
      ]
     },
     "execution_count": 45,
     "metadata": {},
     "output_type": "execute_result"
    }
   ],
   "source": [
    "np.average(A)"
   ]
  },
  {
   "cell_type": "code",
   "execution_count": 46,
   "metadata": {},
   "outputs": [
    {
     "data": {
      "text/plain": [
       "8.583333333333334"
      ]
     },
     "execution_count": 46,
     "metadata": {},
     "output_type": "execute_result"
    }
   ],
   "source": [
    "np.var(A)"
   ]
  },
  {
   "cell_type": "code",
   "execution_count": 47,
   "metadata": {},
   "outputs": [
    {
     "data": {
      "text/plain": [
       "array([[ 1.        , -0.56362148],\n",
       "       [-0.56362148,  1.        ]])"
      ]
     },
     "execution_count": 47,
     "metadata": {},
     "output_type": "execute_result"
    }
   ],
   "source": [
    "#fonction corrcoef permet de tracer une matrice de coeff\n",
    "\n",
    "np.corrcoef(A)"
   ]
  },
  {
   "cell_type": "code",
   "execution_count": 48,
   "metadata": {},
   "outputs": [
    {
     "data": {
      "text/plain": [
       "-0.563621480190678"
      ]
     },
     "execution_count": 48,
     "metadata": {},
     "output_type": "execute_result"
    }
   ],
   "source": [
    "np.corrcoef(A)[0,1]"
   ]
  },
  {
   "cell_type": "code",
   "execution_count": 49,
   "metadata": {},
   "outputs": [
    {
     "data": {
      "text/plain": [
       "(array([0, 3, 5, 7, 9]), array([1, 2, 1, 1, 1], dtype=int64))"
      ]
     },
     "execution_count": 49,
     "metadata": {},
     "output_type": "execute_result"
    }
   ],
   "source": [
    "#retourner le nombre de fois qu'on a une valeur\n",
    "np.unique(A, return_counts=True)\n",
    "\n",
    "#° apparait une fois, 3 apparait 2 fois, 5, 7 et 9 apparaissent une fois"
   ]
  },
  {
   "cell_type": "code",
   "execution_count": 50,
   "metadata": {},
   "outputs": [],
   "source": [
    "values, counts=np.unique(A, return_counts=True)"
   ]
  },
  {
   "cell_type": "code",
   "execution_count": 52,
   "metadata": {},
   "outputs": [
    {
     "data": {
      "text/plain": [
       "array([0, 5, 7, 9, 3])"
      ]
     },
     "execution_count": 52,
     "metadata": {},
     "output_type": "execute_result"
    }
   ],
   "source": [
    "values[counts.argsort()]  # le nombre qui apparît le plus dans le tableau c'est le nombre 3, ensuite 9 ensuite 7 ......"
   ]
  },
  {
   "cell_type": "code",
   "execution_count": 54,
   "metadata": {},
   "outputs": [
    {
     "name": "stdout",
     "output_type": "stream",
     "text": [
      "valeur 0 apparait 1 fois\n",
      "valeur 5 apparait 1 fois\n",
      "valeur 7 apparait 1 fois\n",
      "valeur 9 apparait 1 fois\n",
      "valeur 3 apparait 2 fois\n"
     ]
    }
   ],
   "source": [
    "for i, j in zip(values[counts.argsort()], counts[counts.argsort()]):\n",
    "    print(f'valeur {i} apparait {j} fois')"
   ]
  },
  {
   "cell_type": "code",
   "execution_count": null,
   "metadata": {},
   "outputs": [],
   "source": []
  },
  {
   "cell_type": "markdown",
   "metadata": {},
   "source": [
    "## NAN corrections"
   ]
  },
  {
   "cell_type": "code",
   "execution_count": 56,
   "metadata": {},
   "outputs": [
    {
     "data": {
      "text/plain": [
       "8.583333333333334"
      ]
     },
     "execution_count": 56,
     "metadata": {},
     "output_type": "execute_result"
    }
   ],
   "source": [
    "#quand on a des NAN, pour faire des stats on a des fonctions qui permettent de faire les stats sans tenir compte des NAN\n",
    "#Ex: nanmean, nanvar, nanstd \n",
    "np.nanmean(A)   #dans ce tableau on n'a pas de NAN\n",
    "np.nanvar(A)"
   ]
  },
  {
   "cell_type": "code",
   "execution_count": 57,
   "metadata": {},
   "outputs": [
    {
     "data": {
      "text/plain": [
       "array([[False, False, False],\n",
       "       [False, False, False]])"
      ]
     },
     "execution_count": 57,
     "metadata": {},
     "output_type": "execute_result"
    }
   ],
   "source": [
    "#comment compter le nombre de NAN qu'on a dans le tableau\n",
    "np.isnan(A) #true designe la présence d'un NAN\n"
   ]
  },
  {
   "cell_type": "code",
   "execution_count": 58,
   "metadata": {},
   "outputs": [
    {
     "data": {
      "text/plain": [
       "0"
      ]
     },
     "execution_count": 58,
     "metadata": {},
     "output_type": "execute_result"
    }
   ],
   "source": [
    "np.isnan(A).sum()  #Pour savoir la somme des NAN qu'on a dans tout le tableau"
   ]
  },
  {
   "cell_type": "code",
   "execution_count": 59,
   "metadata": {},
   "outputs": [
    {
     "data": {
      "text/plain": [
       "0.0"
      ]
     },
     "execution_count": 59,
     "metadata": {},
     "output_type": "execute_result"
    }
   ],
   "source": [
    "#on peut regarder le rapport des NAN a la taille du tableau\n",
    "np.isnan(A).sum()/A.size    #0% des valeurs du tableau sont des valeurs NAN"
   ]
  },
  {
   "cell_type": "code",
   "execution_count": 61,
   "metadata": {},
   "outputs": [
    {
     "data": {
      "text/plain": [
       "array([[5, 0, 3],\n",
       "       [3, 7, 9]])"
      ]
     },
     "execution_count": 61,
     "metadata": {},
     "output_type": "execute_result"
    }
   ],
   "source": [
    "#comment se débarasser des NAN\n",
    "A[np.isnan(A)]= 0     #on met une valeur par défaut aux endroits où on avait des Nan, ici on met 0\n",
    "A\n",
    "#rien n'a changé car on n'avait pas des Nan"
   ]
  },
  {
   "cell_type": "markdown",
   "metadata": {},
   "source": [
    "## Algèbre linéaire  \n",
    "bof bof, a voir "
   ]
  },
  {
   "cell_type": "code",
   "execution_count": 2,
   "metadata": {},
   "outputs": [],
   "source": [
    "import numpy as np"
   ]
  },
  {
   "cell_type": "code",
   "execution_count": 3,
   "metadata": {},
   "outputs": [
    {
     "data": {
      "text/plain": [
       "array([[1., 1., 1.],\n",
       "       [1., 1., 1.]])"
      ]
     },
     "execution_count": 3,
     "metadata": {},
     "output_type": "execute_result"
    }
   ],
   "source": [
    "A= np.ones((2,3))\n",
    "B=np.ones((3,2))\n",
    "A"
   ]
  },
  {
   "cell_type": "code",
   "execution_count": 4,
   "metadata": {},
   "outputs": [
    {
     "data": {
      "text/plain": [
       "array([[1., 1.],\n",
       "       [1., 1.],\n",
       "       [1., 1.]])"
      ]
     },
     "execution_count": 4,
     "metadata": {},
     "output_type": "execute_result"
    }
   ],
   "source": [
    "B"
   ]
  },
  {
   "cell_type": "code",
   "execution_count": 7,
   "metadata": {},
   "outputs": [
    {
     "data": {
      "text/plain": [
       "array([[1., 1.],\n",
       "       [1., 1.],\n",
       "       [1., 1.]])"
      ]
     },
     "execution_count": 7,
     "metadata": {},
     "output_type": "execute_result"
    }
   ],
   "source": [
    "#transposer la matrice\n",
    "A.T  "
   ]
  },
  {
   "cell_type": "code",
   "execution_count": 9,
   "metadata": {},
   "outputs": [
    {
     "data": {
      "text/plain": [
       "array([[2., 2., 2.],\n",
       "       [2., 2., 2.],\n",
       "       [2., 2., 2.]])"
      ]
     },
     "execution_count": 9,
     "metadata": {},
     "output_type": "execute_result"
    }
   ],
   "source": [
    "#Produit des matrices\n",
    "A.dot(B)  #A*B\n",
    "B.dot(A)   #B*A\n",
    "\n"
   ]
  },
  {
   "cell_type": "code",
   "execution_count": 14,
   "metadata": {},
   "outputs": [],
   "source": [
    "A= np.random.randint(0,10, [3,3])   #une matrice avec des nombres aléatoires compris entre 0 et 10\n"
   ]
  },
  {
   "cell_type": "code",
   "execution_count": 15,
   "metadata": {},
   "outputs": [
    {
     "data": {
      "text/plain": [
       "array([[2, 4, 3],\n",
       "       [9, 5, 7],\n",
       "       [9, 8, 5]])"
      ]
     },
     "execution_count": 15,
     "metadata": {},
     "output_type": "execute_result"
    }
   ],
   "source": [
    "A"
   ]
  },
  {
   "cell_type": "code",
   "execution_count": 16,
   "metadata": {},
   "outputs": [
    {
     "data": {
      "text/plain": [
       "90.99999999999997"
      ]
     },
     "execution_count": 16,
     "metadata": {},
     "output_type": "execute_result"
    }
   ],
   "source": [
    "#calcul du déterminant\n",
    "np.linalg.det(A)    #déterminant différent de 0 "
   ]
  },
  {
   "cell_type": "code",
   "execution_count": 17,
   "metadata": {},
   "outputs": [
    {
     "data": {
      "text/plain": [
       "array([[-0.34065934,  0.04395604,  0.14285714],\n",
       "       [ 0.1978022 , -0.18681319,  0.14285714],\n",
       "       [ 0.2967033 ,  0.21978022, -0.28571429]])"
      ]
     },
     "execution_count": 17,
     "metadata": {},
     "output_type": "execute_result"
    }
   ],
   "source": [
    "#inversion de la matrice\n",
    "np.linalg.inv(A)               #quand on a des différences dans le dataset, on veut utiliser pinv(A)"
   ]
  },
  {
   "cell_type": "code",
   "execution_count": 18,
   "metadata": {},
   "outputs": [
    {
     "data": {
      "text/plain": [
       "(array([16.74405715, -1.93412961, -2.80992754]),\n",
       " array([[-0.31709751, -0.63584097,  0.55496005],\n",
       "        [-0.65297076,  0.04760737, -0.8098744 ],\n",
       "        [-0.68780691,  0.77035044,  0.19005999]]))"
      ]
     },
     "execution_count": 18,
     "metadata": {},
     "output_type": "execute_result"
    }
   ],
   "source": [
    "#comment trouver les valeurs propres\n",
    "#et les vecteurs propres\n",
    "np.linalg.eig(A)\n",
    "\n",
    "#La première ligne du tableau sont les valeurs propres pour notre matrice 3,3\n",
    "#La deuxième ligne du tableau c'est les vecteurs propres"
   ]
  },
  {
   "cell_type": "code",
   "execution_count": null,
   "metadata": {},
   "outputs": [],
   "source": []
  },
  {
   "cell_type": "markdown",
   "metadata": {},
   "source": [
    "# Matplotlib"
   ]
  },
  {
   "cell_type": "markdown",
   "metadata": {},
   "source": [
    "2 méthodes pour créer des graphiques, une méthode orientée objet (OOP) et une méthode plus basique ( plt.plot)\n",
    "Il ne faut pas mélanger.\n",
    "\n",
    "Fonction:\n",
    "plt.plot(x,y)\n",
    "plt.show(x,y)\n",
    "\n",
    "X et Y doivent être de dimensions égales\n",
    "\n",
    "OOP:\n",
    "fig, ax= plt.subplots()\n",
    "ax.plot(x,y)\n",
    "plt.show()\n",
    "\n",
    "ça donne le même résultat."
   ]
  },
  {
   "cell_type": "code",
   "execution_count": 4,
   "metadata": {},
   "outputs": [],
   "source": [
    "import matplotlib.pyplot as plt"
   ]
  },
  {
   "cell_type": "code",
   "execution_count": 6,
   "metadata": {},
   "outputs": [],
   "source": [
    "#import numpy as np"
   ]
  },
  {
   "cell_type": "code",
   "execution_count": 8,
   "metadata": {},
   "outputs": [
    {
     "name": "stdout",
     "output_type": "stream",
     "text": [
      "[0.         0.22222222 0.44444444 0.66666667 0.88888889 1.11111111\n",
      " 1.33333333 1.55555556 1.77777778 2.        ]\n"
     ]
    }
   ],
   "source": [
    "x= np.linspace(0,2, 10)   #on crée deux tableaux numpys, un tableau x qui comprend 10 points allant de 0 a 2,\n",
    "                          #et un tableau Y qui est le carré du tableau X\n",
    "y=x**2\n",
    "print(x)"
   ]
  },
  {
   "cell_type": "markdown",
   "metadata": {},
   "source": [
    "#### 1) Pyplot"
   ]
  },
  {
   "cell_type": "code",
   "execution_count": 9,
   "metadata": {},
   "outputs": [
    {
     "data": {
      "text/plain": [
       "[<matplotlib.lines.Line2D at 0x1aed89dfac0>]"
      ]
     },
     "execution_count": 9,
     "metadata": {},
     "output_type": "execute_result"
    },
    {
     "data": {
      "image/png": "[encoded data removed]",
      "text/plain": [
       "<Figure size 432x288 with 1 Axes>"
      ]
     },
     "metadata": {
      "needs_background": "light"
     },
     "output_type": "display_data"
    }
   ],
   "source": [
    "#import matplotlib.pyplot as plt\n",
    "plt.plot(x,y)   #x sur les abcisses, y sur les ordonnées\n",
    "#plt.show()    #pour affiher le graphique si on utilise autre chose que jupyter notebook  (nb: sur jupyter ça permet d'enlever le texte mtaplotlib...)\n",
    "# X et Y doivent être de dimensions égales"
   ]
  },
  {
   "cell_type": "code",
   "execution_count": null,
   "metadata": {},
   "outputs": [],
   "source": [
    "# Nuage de point "
   ]
  },
  {
   "cell_type": "code",
   "execution_count": 10,
   "metadata": {},
   "outputs": [
    {
     "data": {
      "text/plain": [
       "<matplotlib.collections.PathCollection at 0x1aed8a6a460>"
      ]
     },
     "execution_count": 10,
     "metadata": {},
     "output_type": "execute_result"
    },
    {
     "data": {
      "image/png": "[encoded data removed]",
      "text/plain": [
       "<Figure size 432x288 with 1 Axes>"
      ]
     },
     "metadata": {
      "needs_background": "light"
     },
     "output_type": "display_data"
    }
   ],
   "source": [
    "plt.scatter(x,y)"
   ]
  },
  {
   "cell_type": "markdown",
   "metadata": {},
   "source": [
    "# customiser une courbe (changer de style)\n",
    "\n",
    "###### plot(x,y,label=....;lw=...,ls=....,c=....)\n",
    "label= nom de la courbe\n",
    "lw=épaisseur du trait\n",
    "ls= style du trait\n",
    "c= couleur du trait\n",
    "\n",
    "#les possibilités sont infinies\n"
   ]
  },
  {
   "cell_type": "code",
   "execution_count": 11,
   "metadata": {},
   "outputs": [
    {
     "data": {
      "image/png": "[encoded data removed]",
      "text/plain": [
       "<Figure size 432x288 with 1 Axes>"
      ]
     },
     "metadata": {
      "needs_background": "light"
     },
     "output_type": "display_data"
    }
   ],
   "source": [
    "plt.plot(x,y,c='red',lw=5, ls='--')\n",
    "plt.show()"
   ]
  },
  {
   "cell_type": "markdown",
   "metadata": {},
   "source": [
    "#le cycle de vie d'une figure\n",
    "#quand on veut créer une gigure, on n'écrit pas directement plt.plot , on écrit plt.figure\n",
    "on crée d'abord une feuille de travail.\n",
    "* plt.figure()    <- début de la figure\n",
    "* plt.plot(...,...)   <- Contenu\n",
    "on écrit plt.figure car on peut jouer avec la taille de notre figure,\n",
    "plt.figure(figsize= (12,8))   par exemple\n",
    "\n",
    "#on peut rajouter d'autres courbes sur notre figure\n",
    "* plt.xlabel('texte')\n",
    "* plt.title('texte')\n",
    "* plt.legend()   \n",
    "pour  afficher une légende, il faut donner des noms à l'intérieur de la courbes, avcec label=...\n",
    "\n",
    "* plt.show() <- Affiche la figure\n",
    "* plt.savefig('texte.png') <- sauvegarde la figure  dans le répertoire de travail"
   ]
  },
  {
   "cell_type": "code",
   "execution_count": 35,
   "metadata": {},
   "outputs": [
    {
     "data": {
      "image/png": "[encoded data removed]",
      "text/plain": [
       "<Figure size 432x288 with 1 Axes>"
      ]
     },
     "metadata": {
      "needs_background": "light"
     },
     "output_type": "display_data"
    },
    {
     "data": {
      "text/plain": [
       "<Figure size 432x288 with 0 Axes>"
      ]
     },
     "metadata": {},
     "output_type": "display_data"
    }
   ],
   "source": [
    "plt.figure()    #(figsize=(12,8))\n",
    "plt.plot(x,y, label= 'quadratique')\n",
    "plt.plot(x,x**3, label='cubique')  #on rajoute une courbe qui est le cube de la courbe x\n",
    "plt.title('Figure 1')\n",
    "plt.xlabel('axe x')\n",
    "plt.ylabel('axe y')\n",
    "plt.legend()\n",
    "plt.show()\n",
    "plt.savefig('Figure1.png')\n"
   ]
  },
  {
   "cell_type": "markdown",
   "metadata": {},
   "source": [
    "#### Afficher plusieurs graphiques sur une même figure\n",
    "fonction subplot\n",
    "* plt.subplot(lignes,colonnes,position)\n"
   ]
  },
  {
   "cell_type": "code",
   "execution_count": 14,
   "metadata": {},
   "outputs": [
    {
     "data": {
      "text/plain": [
       "<matplotlib.legend.Legend at 0x1aed8ccedc0>"
      ]
     },
     "execution_count": 14,
     "metadata": {},
     "output_type": "execute_result"
    },
    {
     "data": {
      "image/png": "[encoded data removed]",
      "text/plain": [
       "<Figure size 432x288 with 2 Axes>"
      ]
     },
     "metadata": {
      "needs_background": "light"
     },
     "output_type": "display_data"
    }
   ],
   "source": [
    "plt.subplot(1,2,1)  #2,1,1  pour mettre les graphiques en ligne sur une colonne\n",
    "plt.plot(x,y,c='red')\n",
    "plt.title('graphique1')\n",
    "plt.subplot(1,2,2)    #2,1,2 our mettre les graphiques en ligne sur une colonne\n",
    "plt.plot(x,np.sin(x),label='sinus')\n",
    "plt.plot(x,np.cos(x),label='cosinus')\n",
    "plt.legend()\n",
    "         "
   ]
  },
  {
   "cell_type": "markdown",
   "metadata": {},
   "source": [
    "#### Matplotlib Méthode Orientée Objet (OOP)\n",
    "(on peut s'en passer)\n",
    "on a plus de possibilité, on peut créer des graphiques qui partagent la même abcisse ou la même ordonnée.\n",
    "\n",
    "fig,ax$plt.subplots(n)\n",
    "ax[0].plot(x,y)\n",
    "ax[1].plot(x,y)\n",
    "plt.show()"
   ]
  },
  {
   "cell_type": "code",
   "execution_count": 15,
   "metadata": {},
   "outputs": [
    {
     "data": {
      "text/plain": [
       "[<matplotlib.lines.Line2D at 0x1aed8d57b80>]"
      ]
     },
     "execution_count": 15,
     "metadata": {},
     "output_type": "execute_result"
    },
    {
     "data": {
      "image/png": "[encoded data removed]",
      "text/plain": [
       "<Figure size 432x288 with 1 Axes>"
      ]
     },
     "metadata": {
      "needs_background": "light"
     },
     "output_type": "display_data"
    }
   ],
   "source": [
    "fig, ax= plt.subplots()\n",
    "ax.plot(x,y)"
   ]
  },
  {
   "cell_type": "code",
   "execution_count": 16,
   "metadata": {},
   "outputs": [
    {
     "data": {
      "image/png": "[encoded data removed]",
      "text/plain": [
       "<Figure size 432x288 with 2 Axes>"
      ]
     },
     "metadata": {
      "needs_background": "light"
     },
     "output_type": "display_data"
    }
   ],
   "source": [
    "fig, ax= plt.subplots(2,1, sharex=True) #on partage l'abcisse pour les deux graphes\n",
    "ax[0].plot(x,y)\n",
    "ax[1].plot(x,np.sin(x))\n",
    "plt.show()"
   ]
  },
  {
   "cell_type": "code",
   "execution_count": 19,
   "metadata": {},
   "outputs": [
    {
     "data": {
      "text/plain": [
       "{'experience(i)': array([-1.92570154, -1.44588561, -0.7843487 , -0.7269546 , -0.08988783,\n",
       "        -2.17320215, -1.61727365,  0.18686975,  0.9494202 ,  2.37216802,\n",
       "         1.25620985,  0.44400852, -1.30655329,  0.31020318,  1.50605117,\n",
       "        -1.35639807,  0.48945082,  0.59187589,  0.23302653,  0.82364702,\n",
       "         1.07995759,  1.34129802,  1.06506122, -0.3071362 ,  0.22707551,\n",
       "         0.10073749, -1.0092171 , -0.01353467, -1.64373003, -2.46978285,\n",
       "        -0.02917888,  1.7696677 , -0.18517426, -0.76898355,  0.62088918,\n",
       "        -1.26531552, -1.11520332, -0.39991119,  0.05067097,  1.24167726,\n",
       "         1.57619723, -0.11767797, -0.51962624, -0.56900282,  0.99072379,\n",
       "        -1.59523994, -0.04287462, -0.41873474,  0.93824235,  0.58252608,\n",
       "         1.07938226, -1.55598287,  0.1374275 , -0.90937661, -1.40745435,\n",
       "        -0.09539642, -1.04131912, -1.07527762, -1.85812598,  0.33749291,\n",
       "        -0.10960441,  0.24070404,  1.32398159,  0.46285263, -1.15184203,\n",
       "         0.98764346, -1.44338611,  1.20522093,  0.40344195, -0.88564555,\n",
       "        -1.05468664,  0.02107281,  0.71809184, -0.06882185,  0.66224304,\n",
       "         0.11912803, -0.78754046,  0.39426896,  1.25570333, -0.28507157,\n",
       "        -2.0046176 , -0.24941869,  2.77456675, -2.02033002,  1.11865392,\n",
       "         1.29464819,  0.7920967 , -0.01258307,  0.38443403,  1.91893383,\n",
       "         1.15428292,  0.5764519 , -0.14299756,  0.16857228,  1.06537794,\n",
       "         0.38307458, -0.02940669, -0.37960594, -0.15398685,  0.52767313])}"
      ]
     },
     "execution_count": 19,
     "metadata": {},
     "output_type": "execute_result"
    }
   ],
   "source": [
    "#exercice\n",
    "#dataset={f\"experience(i)\":np.random.randn(100)for i in range(4)}\n",
    "#dataset\n",
    "#on crée un diction, avec 4 expériences"
   ]
  },
  {
   "cell_type": "code",
   "execution_count": null,
   "metadata": {},
   "outputs": [],
   "source": [
    "#def graphique(dataset):"
   ]
  },
  {
   "cell_type": "markdown",
   "metadata": {},
   "source": [
    "### Graphiques importants en Machine Learning"
   ]
  },
  {
   "cell_type": "markdown",
   "metadata": {},
   "source": [
    "#Scatter classification\n",
    "exemple, classer les emails qu'on reçoit en pam ou pas.\n",
    "pour savoir si ce sont des spams ou pas  (classes) on regarde: les liens, les fautes... (variables, attributs)\n",
    "ce graphique est un des meilleurs choix pour ça."
   ]
  },
  {
   "cell_type": "code",
   "execution_count": 51,
   "metadata": {},
   "outputs": [],
   "source": [
    "#exemple: base de données Iris\n",
    "import numpy as np\n",
    "import matplotlib.pyplot as plt\n",
    "from sklearn.datasets import load_iris # a l'intérieur de sklearn on a plusieurs datasets"
   ]
  },
  {
   "cell_type": "code",
   "execution_count": 52,
   "metadata": {},
   "outputs": [
    {
     "name": "stdout",
     "output_type": "stream",
     "text": [
      "x contient 150 exemples et 4 variables\n",
      "il y a 3classes\n"
     ]
    }
   ],
   "source": [
    "iris= load_iris()\n",
    "x=iris.data\n",
    "y=iris.target\n",
    "names= list(iris.target_names)\n",
    "\n",
    "print (f'x contient {x.shape[0]} exemples et {x.shape[1]} variables')\n",
    "print(f'il y a {np.unique(y).size}classes')"
   ]
  },
  {
   "cell_type": "code",
   "execution_count": 53,
   "metadata": {},
   "outputs": [
    {
     "data": {
      "text/plain": [
       "Text(0, 0.5, 'largeur sépal')"
      ]
     },
     "execution_count": 53,
     "metadata": {},
     "output_type": "execute_result"
    }
   ],
   "source": [
    "plt.scatter(x[:,0], x[:,1],c=y, alpha=0.5,s=x[:,2]*100)  #s=100, ex pour augmenter ou réduire la taille \n",
    "plt.xlabel('longueur sépal')\n",
    "plt.ylabel('largeur sépal')\n",
    "#s=x[:,2]*100) : on contrôle l taille en fonction de la variable 3 de notre problème\n",
    "#plus les points sont gros, plus le pétal est long\n",
    "#y est égale à 0 ou 1 ou 2\n",
    "#limite: on peut juste représenter deux variables sur les 4 qu'on dispose\n",
    "#mais il y'a une technique pour representer toutes les variables"
   ]
  },
  {
   "cell_type": "markdown",
   "metadata": {},
   "source": [
    "### Graphique 3 D\n",
    "visualiser plusieurs variables d'un seul coup sur un seul et même graphique.\n",
    "on est obligé d'utiliser la programmation orientée objet\n",
    "\n",
    "%matplotlib \" pour pouvoir bouger le graphique, ça ouvre une fenêtre sur jupyter ntbk)\n",
    "from mpl_toolkits.mplot3d import Axes3D\n",
    "ax= plt.axes(projection='3d')"
   ]
  },
  {
   "cell_type": "code",
   "execution_count": 54,
   "metadata": {},
   "outputs": [],
   "source": [
    "#%matplotlib \n",
    "#pour pouvoir bouger le graphique\n",
    "from mpl_toolkits.mplot3d import Axes3D"
   ]
  },
  {
   "cell_type": "code",
   "execution_count": 55,
   "metadata": {},
   "outputs": [
    {
     "data": {
      "text/plain": [
       "<mpl_toolkits.mplot3d.art3d.Path3DCollection at 0x1aedf1be670>"
      ]
     },
     "execution_count": 55,
     "metadata": {},
     "output_type": "execute_result"
    }
   ],
   "source": [
    "ax= plt.axes(projection='3d')\n",
    "ax.scatter(x[:,0], x[:,1],x[:,2],c=y)"
   ]
  },
  {
   "cell_type": "markdown",
   "metadata": {},
   "source": [
    "### Histogramme\n",
    "\n",
    "permet de voir la distribution des données avec lesquelles on travaille. \n",
    "\n",
    "en ordonnée on a le nombre d'apparition d'une variable dans chaque catégorie\n",
    "en ordonnée on a toutes les valeurs que peuvent prendre la longueur d'un sépal dans notre fleur d'iris\n",
    "\n",
    "bins=...   permet de définir le nombre de section qu'on veut dans notre histogramme\n",
    "\n",
    "on peut tracer les hist en 2D pour visualiser la distribution des données quand elles suivent deux variables"
   ]
  },
  {
   "cell_type": "code",
   "execution_count": 58,
   "metadata": {},
   "outputs": [
    {
     "data": {
      "text/plain": [
       "(array([ 1.,  3.,  4.,  3.,  8., 14., 14., 10., 26., 11., 19., 12.,  6.,\n",
       "         4.,  9.,  2.,  1.,  1.,  1.,  1.]),\n",
       " array([2.  , 2.12, 2.24, 2.36, 2.48, 2.6 , 2.72, 2.84, 2.96, 3.08, 3.2 ,\n",
       "        3.32, 3.44, 3.56, 3.68, 3.8 , 3.92, 4.04, 4.16, 4.28, 4.4 ]),\n",
       " <a list of 20 Patch objects>)"
      ]
     },
     "execution_count": 58,
     "metadata": {},
     "output_type": "execute_result"
    }
   ],
   "source": [
    "plt.hist(x[:,0], bins=20)\n",
    "plt.hist(x[:,1], bins=20)\n"
   ]
  },
  {
   "cell_type": "code",
   "execution_count": 64,
   "metadata": {},
   "outputs": [
    {
     "data": {
      "text/plain": [
       "<matplotlib.colorbar.Colorbar at 0x1aee37c2370>"
      ]
     },
     "execution_count": 64,
     "metadata": {},
     "output_type": "execute_result"
    }
   ],
   "source": [
    "plt.hist2d(x[:,0],x[:,1],cmap='Blues')\n",
    "plt.xlabel('longueur sépal')\n",
    "plt.ylabel('largeur sépal')\n",
    "plt.colorbar() \n",
    "#légende qui indique a quoi correspond les différentes couleurs sur l'histogramme "
   ]
  },
  {
   "cell_type": "code",
   "execution_count": 68,
   "metadata": {},
   "outputs": [],
   "source": [
    "#Histogramme pour l'analyse d'une image\n",
    "from scipy import misc\n",
    "#import matplotlib.pyplot as plt\n",
    "face= misc.face(gray=True)\n",
    "#plt.imshow(face,cmap='gray')\n",
    "plt.hist(face.ravel(), bins=255)  #255 car une image contient des valeurs allant de 0 a 255 pixels\n",
    "plt.show()"
   ]
  },
  {
   "cell_type": "markdown",
   "metadata": {},
   "source": [
    "### Contour plot"
   ]
  }
 ],
 "metadata": {
  "interpreter": {
   "hash": "eab7b7f4db36e49156c84a3cb4a25a51b19364f10226294c22a9143fbfec7b52"
  },
  "kernelspec": {
   "display_name": "Python 3.10.0 64-bit",
   "name": "python3"
  },
  "language_info": {
   "codemirror_mode": {
    "name": "ipython",
    "version": 3
   },
   "file_extension": ".py",
   "mimetype": "text/x-python",
   "name": "python",
   "nbconvert_exporter": "python",
   "pygments_lexer": "ipython3",
   "version": "3.10.0"
  }
 },
 "nbformat": 4,
 "nbformat_minor": 4
}
